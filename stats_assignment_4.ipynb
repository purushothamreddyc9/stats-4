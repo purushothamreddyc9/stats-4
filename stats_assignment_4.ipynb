{
 "cells": [
  {
   "cell_type": "code",
   "execution_count": 6,
   "metadata": {},
   "outputs": [],
   "source": [
    "import scipy.stats as sts\n",
    "from scipy.stats import norm\n",
    "import math\n",
    "import numpy as np\n",
    "import pandas as pd"
   ]
  },
  {
   "cell_type": "markdown",
   "metadata": {},
   "source": [
    "### Problem Statement 1:\n",
    "\n",
    "#### Is gender independent of education level? A random sample of 395 people were surveyed and each person was asked to report the highest education level they obtained. The data that resulted from the survey is summarized in the following table: Question: Are gender and education level dependent at 5% level of significance? In other words, given the data collected above, is there a relationship between the gender of an individual and the level of education that they have obtained ?\n",
    "\n",
    "\n",
    "|observed |High School  | Bachelors | Masters | Ph.d  | Total |\n",
    "|---------|:-----------:|:---------:|:-------:|:-----:|:------|\n",
    "|Female   |     60      |    54     |   46    |  41   |  201  |\n",
    "|Male     |     40      |    44     |   53    |  57   |  194  |\n",
    "|Total    |    100      |    98     |   99    |  98   |  395  |   <br>\n",
    "\n",
    "\n",
    "|observed |High School  | Bachelors | Masters | Ph.d  | \n",
    "|---------|:-----------:|:---------:|:-------:|:-----:|\n",
    "|Female   |     51      |    50     |   50    |  50   | \n",
    "|Male     |     49      |    48     |   49    |  48   | <br>\n",
    "\n",
    "$H_{0}$=Education is gender independent   <br>\n",
    "\n",
    "$H_{1}$=Education is gender dependent   <br>\n",
    "\n",
    "\n",
    "Calculation using chi square test;    <br>\n",
    "\n",
    "$X^2 $ = $\\sum \\frac {(Observed-Expected)^2}{Expected} $    <br>\n",
    "\n",
    "$X^2 $ = $ \\frac {(60-51)^2}{51} + \\frac {(40-49)^2}{49} + \\frac {(54-50)^2}{50} + \\frac {(44-48)^2}{48} + \\frac {(46-50)^2}{50}  + \\frac {(53-49)^2}{49}  + \\frac {(41-50)^2}{50} + \\frac {(57-48)^2}{57} $  =  7.582   <br>\n",
    "\n",
    "$X^2_{0.05} $ at degree of freedom=(4-1)(2-1)=3 will be = 7.815   <br>\n",
    "\n",
    "$X^2_{test} $  <   $X^2_{0.05}$  <br>\n",
    "\n",
    "Result: Accept Null Hypothesis(Education is Independent of Gender) \n",
    "\n",
    "\n",
    "\n",
    "\n",
    "\n",
    "\n",
    "\n"
   ]
  },
  {
   "cell_type": "code",
   "execution_count": 2,
   "metadata": {},
   "outputs": [
    {
     "name": "stdout",
     "output_type": "stream",
     "text": [
      "[40, 44, 53, 57, 60, 54, 46, 41]\n",
      "      Sex          Edu  Marks\n",
      "0    Male  High School     40\n",
      "1    Male    Bachelors     44\n",
      "2    Male      Masters     53\n",
      "3    Male        Ph.d.     57\n",
      "4  Female  High School     60\n",
      "5  Female    Bachelors     54\n",
      "6  Female      Masters     46\n",
      "7  Female        Ph.d.     41\n"
     ]
    }
   ],
   "source": [
    "f_list = [60,54,46,41]\n",
    "m_list = [40,44,53,57]\n",
    "s = [40,60]\n",
    "b = [44,54]\n",
    "m = [53,46]\n",
    "p = [57,41]\n",
    "marks = m_list + f_list\n",
    "print(marks)\n",
    "sex =  ['Male','Male','Male','Male','Female','Female','Female','Female']\n",
    "edu = ['High School', 'Bachelors', 'Masters', 'Ph.d.','High School', 'Bachelors', 'Masters', 'Ph.d.']\n",
    "df_edu = pd.DataFrame({\"Sex\":sex,\"Edu\":edu,\"Marks\":marks})\n",
    "\n",
    "#df_edu = df_edu[['Sex','High School', 'Bachelors', 'Masters', 'Ph.d.']]\n",
    "\n",
    "#df_edu['Row_total'] = row_list\n",
    "print(df_edu)\n",
    "cross_tab = pd.crosstab([df_edu.Sex,df_edu.Marks],df_edu.Edu,margins=True)"
   ]
  },
  {
   "cell_type": "code",
   "execution_count": 3,
   "metadata": {},
   "outputs": [
    {
     "data": {
      "text/html": [
       "<div>\n",
       "<style scoped>\n",
       "    .dataframe tbody tr th:only-of-type {\n",
       "        vertical-align: middle;\n",
       "    }\n",
       "\n",
       "    .dataframe tbody tr th {\n",
       "        vertical-align: top;\n",
       "    }\n",
       "\n",
       "    .dataframe thead th {\n",
       "        text-align: right;\n",
       "    }\n",
       "</style>\n",
       "<table border=\"1\" class=\"dataframe\">\n",
       "  <thead>\n",
       "    <tr style=\"text-align: right;\">\n",
       "      <th></th>\n",
       "      <th>Bachelors</th>\n",
       "      <th>High School</th>\n",
       "      <th>Masters</th>\n",
       "      <th>Ph.d.</th>\n",
       "      <th>row_totals</th>\n",
       "    </tr>\n",
       "  </thead>\n",
       "  <tbody>\n",
       "    <tr>\n",
       "      <th>Female</th>\n",
       "      <td>54</td>\n",
       "      <td>60</td>\n",
       "      <td>46</td>\n",
       "      <td>41</td>\n",
       "      <td>201</td>\n",
       "    </tr>\n",
       "    <tr>\n",
       "      <th>Male</th>\n",
       "      <td>44</td>\n",
       "      <td>40</td>\n",
       "      <td>53</td>\n",
       "      <td>57</td>\n",
       "      <td>194</td>\n",
       "    </tr>\n",
       "    <tr>\n",
       "      <th>col_totals</th>\n",
       "      <td>98</td>\n",
       "      <td>100</td>\n",
       "      <td>99</td>\n",
       "      <td>98</td>\n",
       "      <td>395</td>\n",
       "    </tr>\n",
       "  </tbody>\n",
       "</table>\n",
       "</div>"
      ],
      "text/plain": [
       "            Bachelors  High School  Masters  Ph.d.  row_totals\n",
       "Female             54           60       46     41         201\n",
       "Male               44           40       53     57         194\n",
       "col_totals         98          100       99     98         395"
      ]
     },
     "execution_count": 3,
     "metadata": {},
     "output_type": "execute_result"
    }
   ],
   "source": [
    "df2 = pd.crosstab(df_edu.Sex, df_edu.Edu,df_edu.Marks, aggfunc=\"sum\",margins=True)\n",
    "\n",
    "df2.columns = [\"Bachelors\",\"High School\",\"Masters\",\"Ph.d.\",\"row_totals\"]\n",
    "\n",
    "df2.index = [\"Female\",\"Male\",\"col_totals\"]\n",
    "\n",
    "df2"
   ]
  },
  {
   "cell_type": "code",
   "execution_count": 4,
   "metadata": {},
   "outputs": [
    {
     "data": {
      "text/html": [
       "<div>\n",
       "<style scoped>\n",
       "    .dataframe tbody tr th:only-of-type {\n",
       "        vertical-align: middle;\n",
       "    }\n",
       "\n",
       "    .dataframe tbody tr th {\n",
       "        vertical-align: top;\n",
       "    }\n",
       "\n",
       "    .dataframe thead th {\n",
       "        text-align: right;\n",
       "    }\n",
       "</style>\n",
       "<table border=\"1\" class=\"dataframe\">\n",
       "  <thead>\n",
       "    <tr style=\"text-align: right;\">\n",
       "      <th></th>\n",
       "      <th>Bachelors</th>\n",
       "      <th>High School</th>\n",
       "      <th>Masters</th>\n",
       "      <th>Ph.d.</th>\n",
       "    </tr>\n",
       "  </thead>\n",
       "  <tbody>\n",
       "    <tr>\n",
       "      <th>Female</th>\n",
       "      <td>54</td>\n",
       "      <td>60</td>\n",
       "      <td>46</td>\n",
       "      <td>41</td>\n",
       "    </tr>\n",
       "    <tr>\n",
       "      <th>Male</th>\n",
       "      <td>44</td>\n",
       "      <td>40</td>\n",
       "      <td>53</td>\n",
       "      <td>57</td>\n",
       "    </tr>\n",
       "  </tbody>\n",
       "</table>\n",
       "</div>"
      ],
      "text/plain": [
       "        Bachelors  High School  Masters  Ph.d.\n",
       "Female         54           60       46     41\n",
       "Male           44           40       53     57"
      ]
     },
     "execution_count": 4,
     "metadata": {},
     "output_type": "execute_result"
    }
   ],
   "source": [
    "observed = df2.iloc[0:2,0:4]   # Get table without totals for later use\n",
    "observed"
   ]
  },
  {
   "cell_type": "code",
   "execution_count": 5,
   "metadata": {},
   "outputs": [
    {
     "ename": "SyntaxError",
     "evalue": "invalid syntax (<ipython-input-5-964378acaa71>, line 1)",
     "output_type": "error",
     "traceback": [
      "\u001b[1;36m  File \u001b[1;32m\"<ipython-input-5-964378acaa71>\"\u001b[1;36m, line \u001b[1;32m1\u001b[0m\n\u001b[1;33m    For a test of independence, we use the same chi-squared formula that we used for the goodness-of-fit test.\u001b[0m\n\u001b[1;37m        ^\u001b[0m\n\u001b[1;31mSyntaxError\u001b[0m\u001b[1;31m:\u001b[0m invalid syntax\n"
     ]
    }
   ],
   "source": [
    "For a test of independence, we use the same chi-squared formula that we used for the goodness-of-fit test.\n",
    "The main difference is we have to calculate the expected counts of each cell in a 2-dimensional table instead of a 1-dimensional table.\n",
    "To get the expected count for a cell, multiply the row total for that cell by the column total for that cell\n",
    "and then divide by the total number of observations.\n",
    "\n",
    "We can quickly get the expected counts for all cells in the table by taking the row totals and column totals of the table,\n",
    "performing an outer product on them with the np.outer() function and dividing by the number of observations:"
   ]
  },
  {
   "cell_type": "code",
   "execution_count": null,
   "metadata": {},
   "outputs": [],
   "source": [
    "expected =  np.outer(df2[\"row_totals\"][0:2],\n",
    "                     df2.loc[\"col_totals\"][0:4]) / 395.0\n",
    "expected = pd.DataFrame(expected)\n",
    "expected.columns = [\"Bachelors\",\"High School\",\"Masters\",\"Ph.d.\"]\n",
    "expected.index = [\"Female\",\"Male\"]\n",
    "expected"
   ]
  },
  {
   "cell_type": "code",
   "execution_count": null,
   "metadata": {},
   "outputs": [],
   "source": [
    "calculate the chi-square statistic, the critical value and the p-value:\n",
    "\n",
    "*Note: We call .sum() twice: once to get the column sums and a second time to add the column sums together, returning the sum of the entire 2D table."
   ]
  },
  {
   "cell_type": "code",
   "execution_count": null,
   "metadata": {},
   "outputs": [],
   "source": [
    "chi_squared_stat = (((observed-expected)**2)/expected).sum().sum()\n",
    "\n",
    "print(chi_squared_stat)"
   ]
  },
  {
   "cell_type": "code",
   "execution_count": null,
   "metadata": {},
   "outputs": [],
   "source": [
    "*Note: The degrees of freedom for a test of independence equals the product of the number of categories in each variable minus 1. In this case we have a 2x4 table so df = 1x3 = 3."
   ]
  },
  {
   "cell_type": "code",
   "execution_count": null,
   "metadata": {},
   "outputs": [],
   "source": [
    "crit = sts.chi2.ppf(q = 0.95, # Find the critical value for 95% confidence*\n",
    "                      df = 3)   # *\n",
    "\n",
    "print(\"Critical value\")\n",
    "print(crit)\n",
    "\n",
    "p_value = 1 - sts.chi2.cdf(x=chi_squared_stat, df=3)  # Find the p-value\n",
    "                            \n",
    "print(\"P value\")\n",
    "print(p_value)"
   ]
  },
  {
   "cell_type": "code",
   "execution_count": null,
   "metadata": {},
   "outputs": [],
   "source": [
    "Use stats.chi2_contingency() function to conduct a test of independence automatically given a frequency table of observed counts:"
   ]
  },
  {
   "cell_type": "code",
   "execution_count": null,
   "metadata": {},
   "outputs": [],
   "source": [
    "sts.chi2_contingency(observed= observed)"
   ]
  },
  {
   "cell_type": "code",
   "execution_count": null,
   "metadata": {},
   "outputs": [],
   "source": [
    "* The output shows the chi-square statistic = 8, the p-value as 0.045 and the degrees of freedom as 3 followed by the expected\n",
    "counts. The critical value with 3 degree of freedom is 7.815. Since 8.006 > 7.815,\n",
    "therefore we reject the null hypothesis and conclude that the education level depends on gender at a 5% level of significance."
   ]
  },
  {
   "cell_type": "markdown",
   "metadata": {},
   "source": [
    "#### Problem Statement 2: Using the following data, perform a oneway analysis of variance using α=.05. Write up the results in APA format. [Group1: 51, 45, 33, 45, 67] [Group2: 23, 43, 23, 43, 45] [Group3: 56, 76, 74, 87, 56].\n",
    "\n",
    "|              |  Group 1  |   Group 2   |   Group 3  | $(S1-\\bar S)^2$|$(S2-\\bar S)^2$|$(S3-\\bar S)^2$|\n",
    "|--------------|:---------:|:-----------:|:----------:|:--------------:|:-------------:|:--------------|\n",
    "|              |    51     |     23      |     56     |     6.25       |    153.76     |     190.44    |\n",
    "|              |    45     |     43      |     76     |     10.24      |     57.6      |      38.44    |\n",
    "|              |    33     |     23      |     74     |    231.04      |    153.76     |      17.64    |\n",
    "|              |    45     |     43      |     87     |     10.24      |     57.6      |     295.84    |\n",
    "|              |    67     |     45      |     56     |    353.44      |     92.16     |     190.44    |   \n",
    "|Mean $\\bar S$ |    48.2   |     35.4    |     69.8   |total= 611.21   |total=514.88   |total=732.8    | \n",
    "|Grand Mean    |    51.1   |             |            |                |               |               | <br>\n",
    "\n",
    "$mean_{within}$ = $\\sum \\frac {(S_{i}-\\bar S)^2}{n_{1}+n_{2}+n_{3}-3} $    <br>\n",
    "\n",
    "$mean_{within}$ =  $\\sum \\frac {(1858.89)}{15-3} $   =   154.9   <br>\n",
    "\n",
    "$mean_{between} $ = $\\sum n_{i} * (\\bar S - \\bar S_{g})^2 $      <br>\n",
    "\n",
    "$mean_{between} $ = $\\frac {5*(48.2 -51.1)^2 + 5*(35.4-51.1)^2 + 5*(69.8- 51.1)^2 } {3-1} $ =1503.65 <br>\n",
    "\n",
    "$f_{test} $= $\\frac {1503.65} {154.9} $   =    9.707    <br>\n",
    "\n",
    "$S.S_{total}$ = 1858 + 3007.3 = 4865.3 ----------------(i)  <br>\n",
    "\n",
    "$\\eta^2 $ = $\\frac {3007.3} {4865.3} $ = 0.618   <br>\n",
    "\n",
    "now we will find  $f_{0.05}$ at degree of freedom = (15-3) =  12  will be = 3.8853    <br>\n",
    "\n",
    "Result in APA format; <br>\n",
    "\n",
    "f(2,12) = 3.8853 , $\\eta^2 $ = 0.618 at  p < 0.05\n",
    "\n",
    "\n"
   ]
  },
  {
   "cell_type": "code",
   "execution_count": null,
   "metadata": {},
   "outputs": [],
   "source": [
    "#The analysis of variance or ANOVA is a statistical inference test that lets you compare multiple groups at the same time.\n",
    "#The one-way ANOVA tests whether the mean of some numeric variable differs across the levels of one categorical variable. \n",
    "#It essentially answers the question: do any of the group means differ from one another? \n",
    "\n",
    "#The scipy library has a function for carrying out one-way ANOVA tests called scipy.stats.f_oneway()\n",
    "\n",
    "Group1 = [51, 45, 33, 45, 67]\n",
    "Group2 = [23, 43, 23, 43, 45]\n",
    "Group3 = [56, 76, 74, 87, 56]\n",
    "\n",
    "# Perform the ANOVA\n",
    "statistic, pvalue = sts.f_oneway(Group1,Group2,Group3)\n",
    "print(\"F Statistic value {} , p-value {}\".format(statistic,pvalue))\n",
    "if pvalue < 0.05:\n",
    "    print('True')\n",
    "else:\n",
    "    print('False')"
   ]
  },
  {
   "cell_type": "code",
   "execution_count": null,
   "metadata": {},
   "outputs": [],
   "source": [
    "* Note: The test result suggests the groups don't have the same sample means in this case,\n",
    "    since the p-value is significant at a 99% confidence level. Here the p-value returned is 0.00305 which is < 0.05"
   ]
  },
  {
   "cell_type": "code",
   "execution_count": null,
   "metadata": {},
   "outputs": [],
   "source": []
  },
  {
   "cell_type": "markdown",
   "metadata": {},
   "source": [
    "### Problem Statement 3 :-\n",
    "\n",
    "Calculate F Test for given 10, 20, 30, 40, 50 and 5,10,15, 20, 25. For 10, 20, 30, 40, 50\n",
    "\n",
    "\n",
    "|               |  Group 1  |   Group 2   | $(S1-\\bar S)^2$  | $(S2-\\bar S)^2$|\n",
    "|--------------:|:---------:|:-----------:|:---------------: |:-------------: |\n",
    "|               |    10     |     5       |     400          |     100        |\n",
    "|               |    20     |     10      |     100          |      25        |     \n",
    "|               |    30     |     15      |       0          |       0        |    \n",
    "|               |    40     |     20      |     100          |      25        | \n",
    "|               |    50     |     25      |     400          |     100        |\n",
    "|Mean $\\bar S$  |    30     |     15      |                  |                |\n",
    "|Grand Mean     |    22.5   |             |                  |                |   <br>\n",
    "\n",
    "\n",
    "\n",
    "$mean_{within}$ = $\\sum \\frac {(S_{i}-\\bar S)^2}{n_{1}+n_{2}-2} $    <br>\n",
    "\n",
    "$mean_{within}$ =  $\\sum \\frac {(1250)}{10-2} $   =   156.25   <br>\n",
    "\n",
    "$mean_{between} $ = $\\sum n_{i} * (\\bar S - \\bar S_{g})^2 $      <br>\n",
    "\n",
    "$mean_{between} $ = $\\frac {5*(30 -22.5)^2 + \\frac {5*(15 -22.5)^2 = 562.5 <br>\n",
    "\n",
    "$f_{test} $= $\\frac {562.5} {156.25} $   =    3.6    <br>\n",
    "\n",
    "\n"
   ]
  },
  {
   "cell_type": "code",
   "execution_count": null,
   "metadata": {},
   "outputs": [],
   "source": [
    "sts.f_oneway([10, 20, 30, 40, 50],[5,10,15, 20, 25])"
   ]
  },
  {
   "cell_type": "code",
   "execution_count": null,
   "metadata": {},
   "outputs": [],
   "source": [
    "Group1 = [10, 20, 30, 40, 50]\n",
    "Group2 = [5,10,15, 20, 25]\n",
    "\n",
    "mean_1 = np.mean(Group1)\n",
    "mean_2 = np.mean(Group2)\n",
    "\n",
    "grp1_sub_mean1 = []\n",
    "grp2_sub_mean2 = []\n",
    "add1 = 0\n",
    "add2 = 0\n",
    "for items in Group1:\n",
    "    add1 += (items - mean_1)**2\n",
    "for items in Group2:\n",
    "    add2 += (items - mean_2)**2\n",
    "var1 = add1/(len(Group1)-1)\n",
    "var2 = add2/(len(Group2)-1)\n",
    "\n",
    "F_Test = var1/var2\n",
    "print(\"F Test for given 10, 20, 30, 40, 50 and 5,10,15, 20, 25 is : \",F_Test)"
   ]
  },
  {
   "cell_type": "code",
   "execution_count": null,
   "metadata": {},
   "outputs": [],
   "source": []
  }
 ],
 "metadata": {
  "kernelspec": {
   "display_name": "Python 3",
   "language": "python",
   "name": "python3"
  },
  "language_info": {
   "codemirror_mode": {
    "name": "ipython",
    "version": 3
   },
   "file_extension": ".py",
   "mimetype": "text/x-python",
   "name": "python",
   "nbconvert_exporter": "python",
   "pygments_lexer": "ipython3",
   "version": "3.8.5"
  }
 },
 "nbformat": 4,
 "nbformat_minor": 4
}
